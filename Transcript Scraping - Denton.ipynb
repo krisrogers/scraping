{
 "cells": [
  {
   "cell_type": "markdown",
   "metadata": {},
   "source": [
    "This notebook is for scraping Denton's 'Enough Rope' transcripts."
   ]
  },
  {
   "cell_type": "code",
   "execution_count": 5,
   "metadata": {},
   "outputs": [],
   "source": [
    "import csv\n",
    "import os\n",
    "import time\n",
    "\n",
    "from lxml import html\n",
    "import requests\n",
    "\n",
    "OUTPUT_DIR = '/data/enough-rope-transcripts'"
   ]
  },
  {
   "cell_type": "code",
   "execution_count": 6,
   "metadata": {},
   "outputs": [],
   "source": [
    "if not os.path.exists(OUTPUT_DIR):\n",
    "    os.makedirs(OUTPUT_DIR)\n",
    "    \n",
    "page = requests.get('http://www.abc.net.au/tv/enoughrope/pastepisodes/name.htm')\n",
    "tree = html.fromstring(page.content)"
   ]
  },
  {
   "cell_type": "code",
   "execution_count": null,
   "metadata": {},
   "outputs": [
    {
     "name": "stdout",
     "output_type": "stream",
     "text": [
      "Chris Abani  - 6 October 2008\n",
      "Mujahid Ahmed  - 15 October 2007\n",
      "Elders Part 3 - Isabel Allende  - 30 June 2008\n",
      "Waleed Aly  - 11 August 2008\n",
      "Suad Amiry  - 13 June 2005\n",
      "Chrissy Amphlett  - 17 July 2006\n",
      "Three Amputees  - 28 August 2006\n",
      "John and Julia Anderson  - 1 May 2006\n",
      "Marcel Aouad  - 17 July 2006\n",
      "Stuart Appleby  - 17 November 2008\n",
      "Elders Part 1 - Sir David Attenborough  - 16 June 2008\n",
      "Sir David Attenborough  - 22 September 2003\n",
      "Angels and Demons  - 7 April 2008\n",
      "Anzac Day Special  - 26 April 2004\n",
      "Alison  - 23 October 2006\n",
      "Bill Bailey  - 1 September 2008\n",
      "Antonio Banderas  - 14 June 2004\n",
      "Bernie and Karen Banton  - 10 July 2006\n",
      "Jimmy Barnes  - 11 October 2004\n",
      "Layne Beachley  - 24 March 2003\n",
      "Ishmael Beah  - 2 July 2007\n",
      "Cate Blanchett  - 9 May 2005\n",
      "Brenda Blethyn  - 24 April 2006\n",
      "Show and Tell: Michael Blucher  - 1 May 2006\n",
      "James Blunt  - 17 April 2006\n",
      "Colonel Matthew Bogdanos  - 29 May 2006\n"
     ]
    }
   ],
   "source": [
    "for linkEl in tree.xpath('//div[@class=\"txtCommon\"]//a'):\n",
    "    link = linkEl.attrib.get('href', None)\n",
    "    if link:\n",
    "        page = requests.get(link)\n",
    "        page.encoding = 'windows-1252'\n",
    "        content = html.fromstring(page.text)\n",
    "        title = content.xpath('//div[@id=\"storyFeature\"]//h2//text()')[0]\n",
    "        date = content.xpath('//span[@class=\"date\"]//text()')[0]\n",
    "        print(title, date)\n",
    "        speakers = content.xpath('//div[@id=\"transContent\"]//p//span[@class=\"talent\"]')\n",
    "        file_path = os.path.join(OUTPUT_DIR, '{}-{}.csv'.format(title, date))\n",
    "        if os.path.exists(file_path):\n",
    "            continue\n",
    "        with open(file_path, 'w') as csvfile:\n",
    "            writer = csv.writer(csvfile)\n",
    "            writer.writerow(['Speaker', 'Text'])\n",
    "            row = []\n",
    "            for speaker in speakers:\n",
    "                if speaker is None:\n",
    "                    continue\n",
    "                speaker_name = speaker.text.strip()\n",
    "                if speaker_name.endswith(':'):\n",
    "                    speaker_name = speaker_name[:-1]\n",
    "                text = speaker.xpath('./following-sibling::text()')[0].strip()\n",
    "                writer.writerow([speaker_name, text])\n",
    "\n",
    "        time.sleep(2)  # Don't spam the server or we might get blocked (plus it's not  nice)"
   ]
  },
  {
   "cell_type": "code",
   "execution_count": null,
   "metadata": {
    "collapsed": true
   },
   "outputs": [],
   "source": []
  }
 ],
 "metadata": {
  "kernelspec": {
   "display_name": "Python 3",
   "language": "python",
   "name": "python3"
  },
  "language_info": {
   "codemirror_mode": {
    "name": "ipython",
    "version": 3
   },
   "file_extension": ".py",
   "mimetype": "text/x-python",
   "name": "python",
   "nbconvert_exporter": "python",
   "pygments_lexer": "ipython3",
   "version": "3.6.0"
  }
 },
 "nbformat": 4,
 "nbformat_minor": 2
}
